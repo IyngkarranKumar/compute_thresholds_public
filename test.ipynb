{
 "cells": [
  {
   "cell_type": "code",
   "execution_count": null,
   "metadata": {},
   "outputs": [],
   "source": [
    "import numpy as np\n",
    "import pandas as pd\n",
    "\n",
    "all_systems_csv_path = \"/Users/iyngkarrankumar/Documents/Misc/Tracking models/data/all_systems.csv\"\n",
    "notable_models_csv_path = \"data/notable_ai_models.csv\"\n",
    "large_scale_models_csv_path = \"data/large_scale_ai_models.csv\""
   ]
  },
  {
   "cell_type": "code",
   "execution_count": null,
   "metadata": {},
   "outputs": [],
   "source": [
    "\n",
    "all_systems_csv_path = \"/Users/iyngkarrankumar/Documents/Misc/Tracking models/data/all_systems.csv\"\n",
    "notable_models_csv_path = \"data/notable_ai_models.csv\"\n",
    "large_scale_models_csv_path = \"data/large_scale_ai_models.csv\"\n",
    "\n",
    "ALL_SYSTEMS_DATA = pd.read_csv(all_systems_csv_path)\n",
    "NOTABLE_SYSTEMS_DATA = pd.read_csv(notable_models_csv_path)\n",
    "LARGE_SCALE_DATA = pd.read_csv(large_scale_models_csv_path)\n",
    "\n",
    "AS_nan_ratio = (ALL_SYSTEMS_DATA['Training compute (FLOP)'].isna().sum())/len(ALL_SYSTEMS_DATA)\n",
    "NS_nan_ratio = (NOTABLE_SYSTEMS_DATA['Training compute (FLOP)'].isna().sum())/len(NOTABLE_SYSTEMS_DATA)\n",
    "LS_nan_ratio = (LARGE_SCALE_DATA['Training compute (FLOP)'].isna().sum())/len(LARGE_SCALE_DATA)\n",
    "\n",
    "\n",
    "print(AS_nan_ratio,NS_nan_ratio,LS_nan_ratio)"
   ]
  }
 ],
 "metadata": {
  "kernelspec": {
   "display_name": "Python 3.10.13 ('FTM')",
   "language": "python",
   "name": "python3"
  },
  "language_info": {
   "name": "python",
   "version": "3.10.13"
  },
  "orig_nbformat": 4,
  "vscode": {
   "interpreter": {
    "hash": "8f33f59546c507a35a4881afce9503208f6c8f0e8d914c07bf4768a8e3992010"
   }
  }
 },
 "nbformat": 4,
 "nbformat_minor": 2
}
