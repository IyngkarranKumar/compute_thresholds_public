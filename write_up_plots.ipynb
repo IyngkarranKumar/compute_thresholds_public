{
 "cells": [
  {
   "cell_type": "markdown",
   "metadata": {},
   "source": [
    "## Method 2 explanation figure"
   ]
  },
  {
   "cell_type": "code",
   "execution_count": null,
   "metadata": {},
   "outputs": [],
   "source": [
    "import numpy as np\n",
    "import pandas as pd\n",
    "import matplotlib.pyplot as plt\n",
    "import seaborn as sns\n",
    "import matplotlib.dates as mdates\n",
    "from sklearn.linear_model import LinearRegression\n",
    "\n",
    "csv_path = '/Users/iyngkarrankumar/Documents/Misc/Tracking models/data/all_systems.csv'"
   ]
  },
  {
   "cell_type": "code",
   "execution_count": null,
   "metadata": {},
   "outputs": [],
   "source": [
    "PLOTTING=True\n",
    "\n",
    "\n",
    "\n",
    "DATA=pd.read_csv(csv_path)\n",
    "DATA[\"Publication date\"] = pd.to_datetime(DATA[\"Publication date\"])\n",
    "DATA['log10 Training Compute'] = np.log10(DATA['Training compute (FLOP)'])\n",
    "\n",
    "##date filtering \n",
    "start_year = 2017\n",
    "DATA_date_f = DATA[DATA['Publication date']>f'{start_year}-01-01']\n",
    "\n",
    "##nan filtering\n",
    "DATA_date_f = DATA_date_f[~DATA_date_f['log10 Training Compute'].isna()]\n",
    "\n",
    "#date formatting\n",
    "DATA_date_f['Publication date num'] = mdates.date2num(DATA_date_f['Publication date'])\n",
    "\n",
    "#simulated data\n",
    "model = LinearRegression()\n",
    "X = DATA_date_f['Publication date'].map(pd.Timestamp.toordinal).values.reshape(-1,1) #ordinal values needed for linear regresson\n",
    "Y = DATA_date_f['log10 Training Compute']\n",
    "model.fit(X,Y)\n",
    "\n",
    "new_dates = pd.date_range(start='2024-06-01',end='2029-01-01',periods=500)\n",
    "new_dates_ordinal = new_dates.map(pd.Timestamp.toordinal).values.reshape(-1,1)\n",
    "predicted_compute = model.predict(new_dates_ordinal)\n",
    "simulated_compute = predicted_compute + np.random.randn(len(new_dates_ordinal))*1.5\n",
    "\n",
    "#simulated data\n",
    "simulated_data = {\n",
    "    'Publication date':new_dates,\n",
    "    'log10 Training Compute': simulated_compute,\n",
    "}\n",
    "simulated_df =pd.DataFrame(simulated_data)\n",
    "combined_df =pd.concat([DATA_date_f,simulated_df])\n",
    "\n",
    "##date formatting\n",
    "combined_df['Publication date num'] = mdates.date2num(combined_df['Publication date num'])\n",
    "\n",
    "\n",
    "if PLOTTING:\n",
    "    fig,ax=plt.subplots()\n",
    "    ax.scatter(x=DATA_date_f['Publication date'],y=DATA_date_f['log10 Training Compute'],c='tab:blue',alpha=0.4)\n",
    "    ax.scatter(x=simulated_df['Publication date'],y=simulated_df['log10 Training Compute'],c='tab:red',alpha=0.4)\n",
    "    ax.axhline(y=25,color='black',linestyle='--',linewidth=1.5)\n",
    "    ax.set_ylabel('log10 compute',fontsize=12)\n",
    "    ax.set_xlabel('Date',fontsize=12)\n",
    "    plt.tick_params(axis='both',which='major',labelsize=12)\n",
    "\n",
    "    ##scatter plot\n",
    "    #ax=combined_df.plot(kind='scatter',x='Publication date',y='log10 Training Compute',alpha=0.6)\n",
    "    #regression line\n",
    "    #sns.regplot(x='Publication date num',y='log10 Training Compute',data=combined_df,ax=ax,scatter=False,color='red',line_kws={'alpha':0.8})"
   ]
  },
  {
   "cell_type": "code",
   "execution_count": null,
   "metadata": {},
   "outputs": [],
   "source": [
    "\n",
    "model = LinearRegression()\n",
    "X=DATA_date_f['Publication date'].map(pd.Timestamp.toordinal).values.reshape(-1,1)\n",
    "Y=DATA_date_f[\"log10 Training Compute\"]\n",
    "model.fit(X,Y)\n",
    "\n",
    "new_dates = pd.date_range(start='2025-01-01',end='2029-01-01')\n",
    "new_dates_ordinal = new_dates.map(pd.Timestamp.toordinal).values.reshape(-1,1)\n",
    "predicted_compute = model.predict(new_dates_ordinal) #reshape as input must be column vector\n",
    "simulated_compute = predicted_compute + np.random.randn(len(new_dates_ordinal))*0.5\n",
    "\n",
    "plt.scatter(new_dates,simulated_compute)"
   ]
  },
  {
   "cell_type": "markdown",
   "metadata": {},
   "source": [
    "## "
   ]
  }
 ],
 "metadata": {
  "kernelspec": {
   "display_name": "Python 3.9.6 64-bit",
   "language": "python",
   "name": "python3"
  },
  "language_info": {
   "name": "python",
   "version": "3.9.6"
  },
  "orig_nbformat": 4,
  "vscode": {
   "interpreter": {
    "hash": "31f2aee4e71d21fbe5cf8b01ff0e069b9275f58929596ceb00d14d90e3e16cd6"
   }
  }
 },
 "nbformat": 4,
 "nbformat_minor": 2
}
